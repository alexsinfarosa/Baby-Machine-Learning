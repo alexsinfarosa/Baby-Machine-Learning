{
 "cells": [
  {
   "cell_type": "markdown",
   "metadata": {},
   "source": [
    "# Random Graphs"
   ]
  },
  {
   "cell_type": "markdown",
   "metadata": {},
   "source": [
    "A [random graph](https://en.wikipedia.org/wiki/Random_graph) is obtained by starting with a set of n isolated vertices and adding successive edges between them at random. The Erdős–Rényi model denoted G(n,M), assigns equal probability to all graphs with exactly M edges. With 0 ≤ M ≤ N, G(n,M) has ${\\tbinom {N}{M}}$ elements and every element occurs with probability $1/{\\tbinom {N}{M}}$.\n",
    "\n",
    "Let's start by importing a few libraries"
   ]
  },
  {
   "cell_type": "code",
   "execution_count": 1,
   "metadata": {
    "collapsed": true
   },
   "outputs": [],
   "source": [
    "import random\n",
    "from collections import Counter,defaultdict\n",
    "%matplotlib inline\n",
    "import matplotlib.pyplot as plt\n",
    "import numpy as np"
   ]
  },
  {
   "cell_type": "markdown",
   "metadata": {},
   "source": [
    "### Basic principles"
   ]
  },
  {
   "cell_type": "markdown",
   "metadata": {},
   "source": [
    "The `random.sample()` function has the feature that it will draw sets of distinct numbers, for example, to draw two numbers in the range from 0 to 99, where the two numbers are always different we can do the following:"
   ]
  },
  {
   "cell_type": "code",
   "execution_count": 2,
   "metadata": {
    "collapsed": false
   },
   "outputs": [
    {
     "data": {
      "text/plain": [
       "[83, 54]"
      ]
     },
     "execution_count": 2,
     "metadata": {},
     "output_type": "execute_result"
    }
   ],
   "source": [
    "N=100\n",
    "random.sample(range(N),2)"
   ]
  },
  {
   "cell_type": "markdown",
   "metadata": {},
   "source": [
    "We will label the vertices of the graph by integers, and this permits specifying random edges. Suppose we want a random graph with `N` vertices and an average of `z` neighbors per vertex, how many total edges should we add? Let `L` be the number of edges. Each edge contributes 1 to the degree of each of the vertices to which it's incident, so that means `2*L=N*z`. That means we need to add `L=N*z/2.` edges in order to have an average degree of `z`.  Let's create a graph with `N=100000` vertices and average degree `z=5`. Let `E` be the set of edges for the graph,"
   ]
  },
  {
   "cell_type": "code",
   "execution_count": 3,
   "metadata": {
    "collapsed": true
   },
   "outputs": [],
   "source": [
    "z=5\n",
    "N=100000"
   ]
  },
  {
   "cell_type": "code",
   "execution_count": 4,
   "metadata": {
    "collapsed": false
   },
   "outputs": [],
   "source": [
    "E=set()\n",
    "L=N*z/2.\n",
    "while(len(E)<L): E.add(tuple(random.sample(range(N),2)))"
   ]
  },
  {
   "cell_type": "markdown",
   "metadata": {},
   "source": [
    "The above code creates a set of exactly `L` random edges drawn from the total possible ${N\\choose2}=N(N-1)/2$. In this case the probability of an edge is given by $p=L/{N\\choose2}$. (Note that while `random.sample()` always draws distinct vertices to make an edge, it might draw the same edge more than once if `p` is large enough. But `E` is defined as a `set()`, so edges are only counted once and that won't affect anything. The `tuple()` in the above converts a two element list, e.g., [23,72], to a tuple (23,72), which for our purposes is an object that can serve as an element of a set."
   ]
  },
  {
   "cell_type": "markdown",
   "metadata": {},
   "source": [
    "### Let's start"
   ]
  },
  {
   "cell_type": "markdown",
   "metadata": {},
   "source": [
    "We will use the graph created above and calculate the mean and standard deviation of the degree distribution of the vertices. To do this, it is useful to make a list of the vertices in the above edge set, counted with multiplicity:"
   ]
  },
  {
   "cell_type": "code",
   "execution_count": 5,
   "metadata": {
    "collapsed": true
   },
   "outputs": [],
   "source": [
    "degree=Counter([n for l in E for n in l])"
   ]
  },
  {
   "cell_type": "markdown",
   "metadata": {},
   "source": [
    "The `degree` dictionary gives the number of times each vertex occurs in the original edge set E, i.e., its degree. "
   ]
  },
  {
   "cell_type": "markdown",
   "metadata": {},
   "source": [
    "We also need to take care of the vertices with degree zero"
   ]
  },
  {
   "cell_type": "code",
   "execution_count": 6,
   "metadata": {
    "collapsed": false
   },
   "outputs": [
    {
     "data": {
      "text/plain": [
       "694"
      ]
     },
     "execution_count": 6,
     "metadata": {},
     "output_type": "execute_result"
    }
   ],
   "source": [
    "zeros=N-len(degree)\n",
    "degree.update({k:0 for k in range(N) if k not in degree})\n",
    "zeros"
   ]
  },
  {
   "cell_type": "markdown",
   "metadata": {},
   "source": [
    "Calling `np.mean()` and `np.std()` on the `.values()` of the `degree` dictionary will then give the mean and standard deviation of the degree distribution.\n",
    "We will also check that the mean is close to the desired `z`, and that the standard deviation is what one would expect for a Poisson distribution of degrees."
   ]
  },
  {
   "cell_type": "code",
   "execution_count": 7,
   "metadata": {
    "collapsed": false
   },
   "outputs": [
    {
     "name": "stdout",
     "output_type": "stream",
     "text": [
      "500000\n",
      "5.0 is close to 5\n",
      "2.23867818143 is close to 2.2360679775\n"
     ]
    }
   ],
   "source": [
    "print(np.sum(list(degree.values())))\n",
    "print(np.mean(list(degree.values())),'is close to',z)\n",
    "print(np.std(list(degree.values())),'is close to',np.sqrt(z))"
   ]
  },
  {
   "cell_type": "markdown",
   "metadata": {},
   "source": [
    "### Plot histogram of the degree distribution"
   ]
  },
  {
   "cell_type": "markdown",
   "metadata": {},
   "source": [
    "First let's define the function"
   ]
  },
  {
   "cell_type": "code",
   "execution_count": 8,
   "metadata": {
    "collapsed": true
   },
   "outputs": [],
   "source": [
    "from scipy.misc import factorial\n",
    "def poisson(m,z=1): return np.exp(-z)*z**m/factorial(m)"
   ]
  },
  {
   "cell_type": "code",
   "execution_count": 9,
   "metadata": {
    "collapsed": false
   },
   "outputs": [
    {
     "data": {
      "image/png": "[encoded data removed]",
      "text/plain": [
       "<matplotlib.figure.Figure at 0x10e5b0748>"
      ]
     },
     "metadata": {},
     "output_type": "display_data"
    }
   ],
   "source": [
    "plt.hist(list(degree.values()),bins=range(20),align='left',alpha=0.3, rwidth = 0.9, label='data')\n",
    "plt.plot(N*poisson(np.arange(20),np.mean(list(degree.values()))),'ro-',linewidth=1.5, label='Poisson')\n",
    "# axes and labels\n",
    "plt.title('Degree distribution',fontsize=12)\n",
    "plt.xlabel('Degree',fontsize=11)\n",
    "plt.xlim(-.5,15)\n",
    "plt.ylabel('node count',fontsize=11)\n",
    "plt.legend();"
   ]
  },
  {
   "cell_type": "markdown",
   "metadata": {},
   "source": [
    "### Now, let's test the \"your friends have more friends than you do\" idea"
   ]
  },
  {
   "cell_type": "markdown",
   "metadata": {},
   "source": [
    "We will use `randint(N,size=100)` to pick 100 vertices at random, and calculate the average degree of those vertices. That average should again be close to z."
   ]
  },
  {
   "cell_type": "code",
   "execution_count": 10,
   "metadata": {
    "collapsed": false
   },
   "outputs": [
    {
     "data": {
      "text/plain": [
       "4.96"
      ]
     },
     "execution_count": 10,
     "metadata": {},
     "output_type": "execute_result"
    }
   ],
   "source": [
    "np.mean([degree[j] for j in np.random.randint(N,size=100)])"
   ]
  },
  {
   "cell_type": "markdown",
   "metadata": {},
   "source": [
    "Now instead we pick 100 vertices at random, and for each of those vertices we pick one of its neighbors at random, and calculate the average degree of those 100 neighbors. To do this efficiently, it will be useful to create a new dictionary `neighbors[]`, which has vertices as keys and for each vertex a list of its neighbors as value."
   ]
  },
  {
   "cell_type": "code",
   "execution_count": 11,
   "metadata": {
    "collapsed": true
   },
   "outputs": [],
   "source": [
    "neighbors=defaultdict(list)\n",
    "for j1,j2 in E:\n",
    "    neighbors[j1].append(j2)\n",
    "    neighbors[j2].append(j1)"
   ]
  },
  {
   "cell_type": "markdown",
   "metadata": {},
   "source": [
    "Then `random.choice(neighbors[8])` will choose one of those five neighbors at random. Using these as keys to the `degree[]` counter permits finding the mean of the degrees of the 100 random friends of the 100 random vertices chosen. \n",
    "We will check wheter that mean is greater than the mean of part 1, and if so if it is greater by the expected amount (where for Poisson the variance is equal to the mean so mean + var/mean = mean + 1):"
   ]
  },
  {
   "cell_type": "code",
   "execution_count": 12,
   "metadata": {
    "collapsed": false
   },
   "outputs": [
    {
     "name": "stdout",
     "output_type": "stream",
     "text": [
      "5.82 is larger than 5.0 and close to 6.002336\n"
     ]
    }
   ],
   "source": [
    "random_neighbors=[random.choice(neighbors[j]) for j in np.random.randint(N,size=100)]\n",
    "expected=np.mean(list(degree.values())) + np.var(list(degree.values()))/np.mean(list(degree.values()))\n",
    "print(np.mean(list([degree[j] for j in random_neighbors])),'is larger than',np.mean(list(degree.values())),\\\n",
    "      'and close to',expected)"
   ]
  },
  {
   "cell_type": "markdown",
   "metadata": {},
   "source": [
    "### Finally, let's try to construct a more realistic social network"
   ]
  },
  {
   "cell_type": "markdown",
   "metadata": {},
   "source": [
    "Social graphs are characterized by the \"triadic closure\" property. For each vertex, we can construct a list of distinct pairs of friends:\n",
    "\n",
    "    friend_pairs= [(f1,f2) for f1 in neighbors[j] for f2 in neighbors[j] if f1<f2]\n",
    "    \n",
    "Some of these `(f1,f2)` edges will already be in `F`, but only with small probability `p`. \n",
    "The *clustering coefficient* for vertex `j` is given by the ratio of closed triangles over total number of possible closed triangles. For the above list of friend pairs, that's just the number of current edges `(f1,f2)` in `F` divided by the length of the list. \n",
    "\n",
    "We are going to determine the average clustering coefficient of the graph by summing the clustering coefficients for all the vertices and dividing by the number of vertices."
   ]
  },
  {
   "cell_type": "code",
   "execution_count": 13,
   "metadata": {
    "collapsed": false
   },
   "outputs": [
    {
     "name": "stdout",
     "output_type": "stream",
     "text": [
      "average clustering coefficient 3.994264764006774e-05\n"
     ]
    }
   ],
   "source": [
    "clust_coeff=0\n",
    "for j in sorted(neighbors):\n",
    "    friend_pairs= [(i1,i2) for i1 in neighbors[j] for i2 in neighbors[j] if i1<i2]\n",
    "    if len(friend_pairs) == 0: continue\n",
    "    clust_coeff += sum([i1 in neighbors[i2] for i1,i2 in friend_pairs])/float(len(friend_pairs))\n",
    "print('average clustering coefficient',clust_coeff/float(len(neighbors)))"
   ]
  },
  {
   "cell_type": "code",
   "execution_count": 14,
   "metadata": {
    "collapsed": true
   },
   "outputs": [],
   "source": [
    "F=E.copy()\n",
    "\n",
    "for j in sorted(neighbors):\n",
    "    friend_pairs= [(i1,i2) for i1 in neighbors[j] for i2 in neighbors[j] if i1<i2]\n",
    "    for edge in friend_pairs:\n",
    "        if np.random.rand()>.5: F.add(edge)"
   ]
  },
  {
   "cell_type": "markdown",
   "metadata": {},
   "source": [
    "Now, the number of edges in the edge set F should be more than three times as many."
   ]
  },
  {
   "cell_type": "code",
   "execution_count": 15,
   "metadata": {
    "collapsed": false
   },
   "outputs": [
    {
     "data": {
      "text/plain": [
       "(250000, 876178)"
      ]
     },
     "execution_count": 15,
     "metadata": {},
     "output_type": "execute_result"
    }
   ],
   "source": [
    "len(E),len(F)"
   ]
  },
  {
   "cell_type": "markdown",
   "metadata": {},
   "source": [
    "We can calculate the mean and standard deviation of the degree distribution of F."
   ]
  },
  {
   "cell_type": "code",
   "execution_count": 16,
   "metadata": {
    "collapsed": false
   },
   "outputs": [
    {
     "name": "stdout",
     "output_type": "stream",
     "text": [
      "mean = 17.52356\n",
      "standard deviation = 8.59866181021\n"
     ]
    }
   ],
   "source": [
    "fdegree=Counter([n for l in F for n in l])\n",
    "avg=np.mean(list(fdegree.values())+zeros*[0])\n",
    "stdev=np.std(list(fdegree.values())+zeros*[0])\n",
    "print('mean =',avg)\n",
    "print('standard deviation =',stdev)"
   ]
  },
  {
   "cell_type": "code",
   "execution_count": 17,
   "metadata": {
    "collapsed": true
   },
   "outputs": [],
   "source": [
    "fneighbors=defaultdict(list)\n",
    "for j1,j2 in F:\n",
    "    fneighbors[j1].append(j2)\n",
    "    fneighbors[j2].append(j1)"
   ]
  },
  {
   "cell_type": "markdown",
   "metadata": {},
   "source": [
    "The average clustering coefficient is now:"
   ]
  },
  {
   "cell_type": "code",
   "execution_count": 18,
   "metadata": {
    "collapsed": false
   },
   "outputs": [
    {
     "name": "stdout",
     "output_type": "stream",
     "text": [
      "average clustering coefficient 0.21727725319741498\n"
     ]
    }
   ],
   "source": [
    "clust_coeff=0\n",
    "for j in sorted(fneighbors):\n",
    "    friend_pairs= [(i1,i2) for i1 in fneighbors[j] for i2 in fneighbors[j] if i1<i2]\n",
    "    if len(friend_pairs) == 0: continue\n",
    "    clust_coeff += sum([i1 in fneighbors[i2] for i1,i2 in friend_pairs])/float(len(friend_pairs))\n",
    "print('average clustering coefficient',clust_coeff/float(len(neighbors)))"
   ]
  },
  {
   "cell_type": "markdown",
   "metadata": {},
   "source": [
    "The clustering coefficient is much larger than the one found above. "
   ]
  }
 ],
 "metadata": {
  "anaconda-cloud": {},
  "kernelspec": {
   "display_name": "Python [default]",
   "language": "python",
   "name": "python3"
  },
  "language_info": {
   "codemirror_mode": {
    "name": "ipython",
    "version": 3
   },
   "file_extension": ".py",
   "mimetype": "text/x-python",
   "name": "python",
   "nbconvert_exporter": "python",
   "pygments_lexer": "ipython3",
   "version": "3.5.2"
  }
 },
 "nbformat": 4,
 "nbformat_minor": 1
}
