{
 "cells": [
  {
   "cell_type": "markdown",
   "metadata": {},
   "source": [
    "# Recommendations\n",
    "\n",
    "In the following notebook we will attempt to determine the recommendations for some specified users. In other words we will pick some random users and get movie recommendations for them.\n",
    "\n",
    "The **movielens** dataset contains real movie preference data used for a variety of algorithmic tests\n",
    "(There are other datasets available as well at http://grouplens.org/datasets/ .) In this case we will use this small data set (see [README](http://files.grouplens.org/datasets/movielens/ml-100k/README)) at this url<br>\n",
    "http://files.grouplens.org/datasets/movielens/ml-100k/<br>\n",
    "Here are just two of the files:\n",
    "\n",
    "    u.item: list containing movie ids and titles (plus other info)\n",
    "    u.data: contains 100,000 ratings  (user id, movie id, rating, timestamp)"
   ]
  },
  {
   "cell_type": "markdown",
   "metadata": {},
   "source": [
    "### Get the movies"
   ]
  },
  {
   "cell_type": "markdown",
   "metadata": {},
   "source": [
    "The first line of `u.item` has '|'-delimited fields, starting with\n",
    "\n",
    "    1|Toy Story (1995)|01-Jan-1995|...\n",
    "    ...\n",
    "\n",
    "Only the first two fields will be used here, so it can be loaded into a `movies` dict as"
   ]
  },
  {
   "cell_type": "code",
   "execution_count": 1,
   "metadata": {
    "collapsed": false
   },
   "outputs": [],
   "source": [
    "movies={}\n",
    "for line in open('ml-data/u.item'):\n",
    "    (id,title)=line.split('|')[0:2]\n",
    "    movies[int(id)] = title"
   ]
  },
  {
   "cell_type": "markdown",
   "metadata": {},
   "source": [
    "let's check how many movies there are in the dictionary"
   ]
  },
  {
   "cell_type": "code",
   "execution_count": 2,
   "metadata": {
    "collapsed": false
   },
   "outputs": [
    {
     "data": {
      "text/plain": [
       "1682"
      ]
     },
     "execution_count": 2,
     "metadata": {},
     "output_type": "execute_result"
    }
   ],
   "source": [
    "len(movies)"
   ]
  },
  {
   "cell_type": "markdown",
   "metadata": {},
   "source": [
    "### Get the data containing the ratings"
   ]
  },
  {
   "cell_type": "markdown",
   "metadata": {},
   "source": [
    "The file `u.data` has a list of tab-delimited user_id/movie_id/rating/timestamp lines\n",
    "\n",
    "    196     242     3       881250949\n",
    "    186     302     3       891717742\n",
    "    ...\n",
    "\n",
    "and can be loaded into a `ratings` dict as "
   ]
  },
  {
   "cell_type": "code",
   "execution_count": 3,
   "metadata": {
    "collapsed": false
   },
   "outputs": [],
   "source": [
    "ratings={}\n",
    "for line in open('ml-data/u.data'):\n",
    "    (user,movieid,rating,ts)=line.split('\\t')\n",
    "    user=int(user)\n",
    "    movieid= int(movieid)\n",
    "    if user not in ratings: ratings[user] = {}\n",
    "    ratings[user][movies[movieid]]=float(rating)"
   ]
  },
  {
   "cell_type": "markdown",
   "metadata": {},
   "source": [
    "How many users?"
   ]
  },
  {
   "cell_type": "code",
   "execution_count": 4,
   "metadata": {
    "collapsed": false
   },
   "outputs": [
    {
     "data": {
      "text/plain": [
       "943"
      ]
     },
     "execution_count": 4,
     "metadata": {},
     "output_type": "execute_result"
    }
   ],
   "source": [
    "len(ratings)"
   ]
  },
  {
   "cell_type": "markdown",
   "metadata": {},
   "source": [
    "### Before we start let's show a small sample, just to have an idea"
   ]
  },
  {
   "cell_type": "markdown",
   "metadata": {},
   "source": [
    "A dictionary of movie reviewers and their ratings of a small set of movies"
   ]
  },
  {
   "cell_type": "code",
   "execution_count": 5,
   "metadata": {
    "collapsed": true
   },
   "outputs": [],
   "source": [
    "reviews={\n",
    "    'Lisa Rose':\n",
    "        {'Lady in the Water': 2.5, 'Snakes on a Plane': 3.5, 'Just My Luck': 3.0,\n",
    "         'Superman Returns': 3.5, 'You, Me and Dupree': 2.5, 'The Night Listener': 3.0},\n",
    "    'Gene Seymour':\n",
    "        {'Lady in the Water': 3.0, 'Snakes on a Plane': 3.5, 'Just My Luck': 1.5,\n",
    "         'Superman Returns': 5.0, 'The Night Listener': 3.0, 'You, Me and Dupree': 3.5}, \n",
    "    'Michael Phillips':\n",
    "        {'Lady in the Water': 2.5, 'Snakes on a Plane': 3.0,\n",
    "         'Superman Returns': 3.5, 'The Night Listener': 4.0},\n",
    "    'Claudia Puig':\n",
    "        {'Snakes on a Plane': 3.5, 'Just My Luck': 3.0, 'The Night Listener': 4.5,\n",
    "         'Superman Returns': 4.0, 'You, Me and Dupree': 2.5},\n",
    "    'Mick LaSalle':\n",
    "         {'Lady in the Water': 3.0, 'Snakes on a Plane': 4.0, 'Just My Luck': 2.0,\n",
    "          'Superman Returns': 3.0, 'The Night Listener': 3.0, 'You, Me and Dupree': 2.0}, \n",
    "    'Jack Matthews':\n",
    "        {'Lady in the Water': 3.0, 'Snakes on a Plane': 4.0,\n",
    "         'The Night Listener': 3.0, 'Superman Returns': 5.0, 'You, Me and Dupree': 3.5},\n",
    "    'Toby':\n",
    "        {'Snakes on a Plane':4.5,'You, Me and Dupree':1.0,'Superman Returns':4.0}\n",
    "}"
   ]
  },
  {
   "cell_type": "markdown",
   "metadata": {},
   "source": [
    "Hmm, what has **Toby** reviewed?"
   ]
  },
  {
   "cell_type": "code",
   "execution_count": 6,
   "metadata": {
    "collapsed": false
   },
   "outputs": [
    {
     "data": {
      "text/plain": [
       "{'Snakes on a Plane': 4.5, 'Superman Returns': 4.0, 'You, Me and Dupree': 1.0}"
      ]
     },
     "execution_count": 6,
     "metadata": {},
     "output_type": "execute_result"
    }
   ],
   "source": [
    "reviews['Toby']"
   ]
  },
  {
   "cell_type": "markdown",
   "metadata": {},
   "source": [
    "### Import libraries"
   ]
  },
  {
   "cell_type": "code",
   "execution_count": 7,
   "metadata": {
    "collapsed": true
   },
   "outputs": [],
   "source": [
    "import numpy as np\n",
    "import matplotlib.pyplot as plt\n",
    "%matplotlib inline\n",
    "from scipy import stats\n",
    "from scipy.stats import pearsonr,spearmanr,linregress"
   ]
  },
  {
   "cell_type": "markdown",
   "metadata": {},
   "source": [
    "Out of curiosity, let's see how many they rated."
   ]
  },
  {
   "cell_type": "code",
   "execution_count": 8,
   "metadata": {
    "collapsed": false
   },
   "outputs": [
    {
     "name": "stdout",
     "output_type": "stream",
     "text": [
      "min=19, max=736, mean=105.72, std=100.57, median=64.0\n"
     ]
    },
    {
     "data": {
      "text/plain": [
       "(1, 250)"
      ]
     },
     "execution_count": 8,
     "metadata": {},
     "output_type": "execute_result"
    },
    {
     "data": {
      "image/png": "[encoded data removed]",
      "text/plain": [
       "<matplotlib.figure.Figure at 0x10c8342e8>"
      ]
     },
     "metadata": {},
     "output_type": "display_data"
    }
   ],
   "source": [
    "data=list(map(len,ratings.values()))\n",
    "print('min={}, max={}, mean={:.2f}, std={:.2f}, median={}'.format(\n",
    "        min(data),max(data),np.mean(data),np.std(data),np.median(data)))\n",
    "plt.figure(figsize=(10,4))\n",
    "plt.subplot(1,2,1)\n",
    "plt.xlabel('#movies'),plt.ylabel('#users who rated that #movies')\n",
    "plt.hist(data,bins=range(0,800,10))\n",
    "plt.xlim(10,750),plt.ylim(0,210)\n",
    "\n",
    "plt.subplot(1,2,2)\n",
    "plt.xlabel('#movies'),plt.ylabel('#users who rated that #movies')\n",
    "plt.hist(data,bins=range(0,800,10),log=True)\n",
    "plt.xscale('log')\n",
    "plt.ylim(1,250)"
   ]
  },
  {
   "cell_type": "markdown",
   "metadata": {},
   "source": [
    "The result, a rough power law, is ratings of 1682 movies by 943 users, an average of about 106 ratings per user (ranging from 19 to 736, with a median of 64)."
   ]
  },
  {
   "cell_type": "markdown",
   "metadata": {},
   "source": [
    "### Define functions"
   ]
  },
  {
   "cell_type": "markdown",
   "metadata": {},
   "source": [
    "Next, we'll define the similarity measure function $s_{ij}=\\frac {1}{1 + d^{2}_{ij}}$. It returns the similarity score of two reviewers."
   ]
  },
  {
   "cell_type": "code",
   "execution_count": 9,
   "metadata": {
    "collapsed": true
   },
   "outputs": [],
   "source": [
    "def sim_pearson(prefs,crit1,crit2):\n",
    "    shared_items=[item for item in prefs[crit1] if item in prefs[crit2]]\n",
    "    #shared_items=list(set(prefs[person1]) & set(prefs[person2]))  #equivalent\n",
    "    if len(shared_items)==0: return 0\n",
    "    xdata = [prefs[crit1][item] for item in shared_items]\n",
    "    ydata = [prefs[crit2][item] for item in shared_items]\n",
    "    r,p=stats.pearsonr(xdata,ydata)\n",
    "    if np.isnan(r): return 0\n",
    "    return r"
   ]
  },
  {
   "cell_type": "markdown",
   "metadata": {},
   "source": [
    "We also need to define another function to get recommendations by using a weighted average of every other person's ratings, weighted according to that person's similarity to another person. Suppose person $i$ has similarity $s_i$ to you, and gives rating ${r_i(m)}$ to movie $m$ that you haven't seen, then that person will contribute ${s_i⋅r_i(m)}$ to your likely preference for movie $m$, so that others' ratings are weighted in proportion to their similarity to you. Then we sum on $i$ over all those who have rated movie $m$, and divide by the same sum over the $s_i$ to give the expected value of your rating of movie $m$:"
   ]
  },
  {
   "cell_type": "markdown",
   "metadata": {},
   "source": [
    "$$ E[r_m] = \\frac{\\sum_{i\\:|\\:i\\:rated\\:m} s_i \\cdot  r_m(i)}{\\sum_{i\\:|\\:i\\:rated\\:m} s_i} $$"
   ]
  },
  {
   "cell_type": "markdown",
   "metadata": {},
   "source": [
    "This equation is implemented in the function below, and gives the expected rating of all movies one hasn't seen:"
   ]
  },
  {
   "cell_type": "code",
   "execution_count": 10,
   "metadata": {
    "collapsed": true
   },
   "outputs": [],
   "source": [
    "def getRecommendations(prefs,person,similarity=sim_pearson):\n",
    "    totals={}\n",
    "    simSums={}\n",
    "    for other in prefs:\n",
    "        # don't compare me to myself\n",
    "        if other==person: continue\n",
    "        sim=similarity(prefs,person,other)\n",
    "    \n",
    "        # ignore scores of zero or lower\n",
    "        if sim<=0: continue\n",
    "        for item in prefs[other]:\n",
    "\n",
    "            # only score movies I haven't seen yet\n",
    "            if item not in prefs[person] or prefs[person][item]==0:\n",
    "                # Similarity * Score\n",
    "                if item not in totals:\n",
    "                    totals[item]=0\n",
    "                    simSums[item]=0\n",
    "                totals[item] += prefs[other][item]*sim\n",
    "                # Sum of similarities\n",
    "                simSums[item] += sim\n",
    "\n",
    "    # Create the normalized list\n",
    "    rankings=[(item,round(totals[item]/simSums[item],3)) for item in totals]\n",
    "\n",
    "    # Return the sorted list\n",
    "    return sorted(rankings,key=lambda x:x[1],reverse=True)"
   ]
  },
  {
   "cell_type": "markdown",
   "metadata": {},
   "source": [
    "### Let's play..."
   ]
  },
  {
   "cell_type": "markdown",
   "metadata": {},
   "source": [
    "Now let's say we would like to view the top ten recommendations for users 2 and 167. "
   ]
  },
  {
   "cell_type": "code",
   "execution_count": 11,
   "metadata": {
    "collapsed": false
   },
   "outputs": [
    {
     "data": {
      "text/plain": [
       "([('Santa with Muscles (1996)', 5.0),\n",
       "  (\"Someone Else's America (1995)\", 5.0),\n",
       "  ('Star Kid (1997)', 5.0),\n",
       "  ('Saint of Fort Washington, The (1993)', 5.0),\n",
       "  ('Little City (1998)', 5.0),\n",
       "  ('Great Day in Harlem, A (1994)', 5.0),\n",
       "  ('Entertaining Angels: The Dorothy Day Story (1996)', 5.0),\n",
       "  ('The Deadly Cure (1996)', 5.0),\n",
       "  ('Prefontaine (1997)', 5.0),\n",
       "  ('Marlene Dietrich: Shadow and Light (1996) ', 5.0)],\n",
       " [('Santa with Muscles (1996)', 5.0),\n",
       "  (\"Someone Else's America (1995)\", 5.0),\n",
       "  ('Saint of Fort Washington, The (1993)', 5.0),\n",
       "  ('Little City (1998)', 5.0),\n",
       "  ('They Made Me a Criminal (1939)', 5.0),\n",
       "  ('Boys, Les (1997)', 5.0),\n",
       "  ('Prefontaine (1997)', 5.0),\n",
       "  ('Marlene Dietrich: Shadow and Light (1996) ', 5.0),\n",
       "  ('Entertaining Angels: The Dorothy Day Story (1996)', 5.0),\n",
       "  ('Great Day in Harlem, A (1994)', 5.0)])"
      ]
     },
     "execution_count": 11,
     "metadata": {},
     "output_type": "execute_result"
    }
   ],
   "source": [
    "getRecommendations(ratings,2)[:10], getRecommendations(ratings,167)[:10]"
   ]
  },
  {
   "cell_type": "markdown",
   "metadata": {},
   "source": [
    "Also we want to know their Pearson similarity"
   ]
  },
  {
   "cell_type": "code",
   "execution_count": 12,
   "metadata": {
    "collapsed": false
   },
   "outputs": [
    {
     "data": {
      "text/plain": [
       "1.0"
      ]
     },
     "execution_count": 12,
     "metadata": {},
     "output_type": "execute_result"
    }
   ],
   "source": [
    "sim_pearson(ratings,2,167)"
   ]
  },
  {
   "cell_type": "markdown",
   "metadata": {},
   "source": [
    "From above we can say that users 2 and 167 are highly correlated by Pearson, and get similar recommendations."
   ]
  },
  {
   "cell_type": "code",
   "execution_count": 13,
   "metadata": {
    "collapsed": false
   },
   "outputs": [
    {
     "data": {
      "text/plain": [
       "[((4, 36), -1.0), ((4, 415), -1.0), ((36, 415), 1.0)]"
      ]
     },
     "execution_count": 13,
     "metadata": {},
     "output_type": "execute_result"
    }
   ],
   "source": [
    "users3=(4,36,415)\n",
    "[((u1,u2),sim_pearson(ratings,u1,u2)) for u1 in users3 for u2 in users3 if u1<u2]      "
   ]
  },
  {
   "cell_type": "markdown",
   "metadata": {},
   "source": [
    "Users 36 and 415 are highly correlated, and both negatively correlated with user 4, and that is reflected in their recommendations."
   ]
  }
 ],
 "metadata": {
  "anaconda-cloud": {},
  "kernelspec": {
   "display_name": "Python [default]",
   "language": "python",
   "name": "python3"
  },
  "language_info": {
   "codemirror_mode": {
    "name": "ipython",
    "version": 3
   },
   "file_extension": ".py",
   "mimetype": "text/x-python",
   "name": "python",
   "nbconvert_exporter": "python",
   "pygments_lexer": "ipython3",
   "version": "3.5.2"
  }
 },
 "nbformat": 4,
 "nbformat_minor": 1
}
