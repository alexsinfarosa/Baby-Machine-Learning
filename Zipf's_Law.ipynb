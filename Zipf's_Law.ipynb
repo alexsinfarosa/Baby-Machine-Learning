{
 "cells": [
  {
   "cell_type": "markdown",
   "metadata": {},
   "source": [
    "# Zipf's Law\n",
    "\n",
    "In this guide we'll write some code to look at some word distributions and power laws.\n",
    "\n",
    "## The data\n",
    "The data folder contains 71 files:\n",
    "\n",
    "- Thirty files labelled p0.txt – p29.txt, with text extracted from ten recent news articles about politics.\n",
    "- Thirty files labelled s0.txt – s29.txt, with text extracted from ten recent news articles about sports.\n",
    "- Ten files labelled t0.txt – t9.txt, which will be the “test set”.\n",
    "\n",
    "First, let's import the texts themselves into our notebook."
   ]
  },
  {
   "cell_type": "code",
   "execution_count": 1,
   "metadata": {
    "collapsed": false
   },
   "outputs": [],
   "source": [
    "ptexts=[open('data/p{}.txt'.format(i)).read() for i in range(30)]\n",
    "stexts=[open('data/s{}.txt'.format(i)).read() for i in range(30)]\n",
    "ttexts=[open('data/t{}.txt'.format(i)).read() for i in range(10)]"
   ]
  },
  {
   "cell_type": "markdown",
   "metadata": {},
   "source": [
    "The following code iterates through the sixty training texts, and accumulates their word counts in the Counter object `thewords`:"
   ]
  },
  {
   "cell_type": "code",
   "execution_count": 2,
   "metadata": {
    "collapsed": false
   },
   "outputs": [
    {
     "name": "stdout",
     "output_type": "stream",
     "text": [
      "Populating the interactive namespace from numpy and matplotlib\n"
     ]
    }
   ],
   "source": [
    "%pylab inline\n",
    "from collections import Counter\n",
    "\n",
    "thewords=Counter()\n",
    "for txt in ptexts+stexts:\n",
    "    thewords += Counter(txt.lower().split())"
   ]
  },
  {
   "cell_type": "markdown",
   "metadata": {},
   "source": [
    "For instance, we could look at the 10 most common words in the Counter object `thewords` by using the `most_common` method as follows:"
   ]
  },
  {
   "cell_type": "code",
   "execution_count": 3,
   "metadata": {
    "collapsed": false
   },
   "outputs": [
    {
     "data": {
      "text/plain": [
       "[('the', 3692),\n",
       " ('to', 1688),\n",
       " ('a', 1665),\n",
       " ('of', 1578),\n",
       " ('and', 1478),\n",
       " ('in', 1223),\n",
       " ('that', 921),\n",
       " ('is', 644),\n",
       " ('for', 625),\n",
       " ('he', 612)]"
      ]
     },
     "execution_count": 3,
     "metadata": {},
     "output_type": "execute_result"
    }
   ],
   "source": [
    "thewords.most_common(10)"
   ]
  },
  {
   "cell_type": "code",
   "execution_count": 4,
   "metadata": {
    "collapsed": false
   },
   "outputs": [],
   "source": [
    "import numpy as np\n",
    "words,nw=zip(*thewords.most_common())"
   ]
  },
  {
   "cell_type": "markdown",
   "metadata": {},
   "source": [
    "Total number of words in the corpus:"
   ]
  },
  {
   "cell_type": "code",
   "execution_count": 5,
   "metadata": {
    "collapsed": false
   },
   "outputs": [
    {
     "name": "stdout",
     "output_type": "stream",
     "text": [
      "63827\n"
     ]
    }
   ],
   "source": [
    "corpus = sum(nw)\n",
    "print(corpus)"
   ]
  },
  {
   "cell_type": "markdown",
   "metadata": {},
   "source": [
    "## Rank frequency graph\n",
    "\n",
    "The frequency of occurrence vs. the rank of the word.\n",
    "\n",
    "Now we plot the number of occurrences in the `thewords` dictionary on the y-axis, ordered so that the word with the largest number of occurrences is plotted first, the word with second largest number of occurrences is plotted second, and so on."
   ]
  },
  {
   "cell_type": "code",
   "execution_count": 6,
   "metadata": {
    "collapsed": false
   },
   "outputs": [
    {
     "data": {
      "image/png": "[encoded data removed]",
      "text/plain": [
       "<matplotlib.figure.Figure at 0x109740a58>"
      ]
     },
     "metadata": {},
     "output_type": "display_data"
    }
   ],
   "source": [
    "figure(figsize=(5.5,5))\n",
    "r=arange(1,len(nw)+1)\n",
    "plot(r,nw,'o');"
   ]
  },
  {
   "cell_type": "markdown",
   "metadata": {},
   "source": [
    "As we notice from the graph above it is difficult to see the overall structure of this data since most of the values are so small. A standard method is to plot using logarithmic scales, so that a fixed distance along the axis corresponds to say a factor of 10 (rather than just adding 10). This can be implemented by adding xscale('log') or yscale('log'), or both, before or after the plot() command; or by using loglog() instead of plot(). They give the same type of plot."
   ]
  },
  {
   "cell_type": "markdown",
   "metadata": {},
   "source": [
    "Now, we extract the counts for the top 500 words in our thewords dictionary, and plot those counts against the word ranks. We also annotate the top ten words on the graph with what they are. Finally we try to fit the data we have plotted with a straight line."
   ]
  },
  {
   "cell_type": "code",
   "execution_count": 7,
   "metadata": {
    "collapsed": false
   },
   "outputs": [
    {
     "data": {
      "image/png": "[encoded data removed]",
      "text/plain": [
       "<matplotlib.figure.Figure at 0x10979fa20>"
      ]
     },
     "metadata": {},
     "output_type": "display_data"
    }
   ],
   "source": [
    "figure(figsize=(6,6))\n",
    "r=1+arange(500)\n",
    "loglog(r,nw[:500],'o')\n",
    "plot(r,6500./r)\n",
    "for x,y,w in list(zip(r,nw,words))[:11]:\n",
    "#    text(x,(1.1 if x%2 else .75)*y,w,ha='center')\n",
    "    text(x,(1.5 if x%2 else .67)*y,w,ha='center')\n",
    "xlim(.9,1e3)\n",
    "ylim(.9,1e4)\n",
    "xlabel('word rank')\n",
    "ylabel('#occurrences')\n",
    "legend(['data','-1 power law \"fit\"']);"
   ]
  },
  {
   "cell_type": "markdown",
   "metadata": {},
   "source": [
    "## Results"
   ]
  },
  {
   "cell_type": "markdown",
   "metadata": {},
   "source": [
    "Many data points do fall roughly along a straight line in log-log space (Zipf's law), even for this tiny amount of data, which amount only to the sixty short training set articles."
   ]
  }
 ],
 "metadata": {
  "anaconda-cloud": {},
  "kernelspec": {
   "display_name": "Python [Root]",
   "language": "python",
   "name": "Python [Root]"
  },
  "language_info": {
   "codemirror_mode": {
    "name": "ipython",
    "version": 3
   },
   "file_extension": ".py",
   "mimetype": "text/x-python",
   "name": "python",
   "nbconvert_exporter": "python",
   "pygments_lexer": "ipython3",
   "version": "3.5.2"
  }
 },
 "nbformat": 4,
 "nbformat_minor": 0
}
