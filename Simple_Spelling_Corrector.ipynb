{
 "cells": [
  {
   "cell_type": "markdown",
   "metadata": {},
   "source": [
    "# Simple Spelling Corrector"
   ]
  },
  {
   "cell_type": "markdown",
   "metadata": {},
   "source": [
    "In \"How to Write a Spelling Corrector\" http://norvig.com/spell-correct.html, Norvig describes training his algorithm on about a million words taken from several public domain books. Various precompiled word frequency lists are also available on the web, for example for all of the Project Gutenberg texts up to Apr 2006 at\n",
    "http://en.wiktionary.org/wiki/Wiktionary:Frequency_lists#Project_Gutenberg .\n",
    "\n",
    "From that list, the frequencies per billion for the following selection of twenty four words are roughly\n",
    "\n",
    "<table>\n",
    "<tr><td>fog 13,651 <td>for 7,097,981 <td>ford 15,620 <td>fore 6,699 <td>forge 3,893 <td>fork  8,219</tr>\n",
    "<tr>\n",
    "<td>form 307,506\n",
    "<td>fort 23,113\n",
    "<td>frog 4,119\n",
    "<td>go 816,536\n",
    "<td>god 552,668\n",
    "<td>good 966,602\n",
    "</tr><tr>\n",
    "<td>gorge  6,177\n",
    "<td>got 432,016\n",
    "<td>groan 9,995\n",
    "<td>grow 64,005\n",
    "<td>grown 57,772\n",
    "<td>lord 422,407\n",
    "</tr><tr>\n",
    "<td>more 1,899,787\n",
    "<td>nor 349,691\n",
    "<td>of 33,950,064\n",
    "<td>off 545,832\n",
    "<td>or 4,228,287\n",
    "<td>work 829,823\n",
    "</tr>\n",
    "</table>\n",
    "\n",
    "\n",
    "Now, we would like to write a function `correct()` that returns the suggested corrected spelling for each of the four words: **'frog'**, **'gorf'**, **'forg'**, and **'grof'**."
   ]
  },
  {
   "cell_type": "markdown",
   "metadata": {},
   "source": [
    "## Bring in the table..."
   ]
  },
  {
   "cell_type": "code",
   "execution_count": 1,
   "metadata": {
    "collapsed": true
   },
   "outputs": [],
   "source": [
    "table = {\"fog\":13651,\"for\":7097981,\"ford\":15620,\"fore\":6699,\"forge\":3893,\"fork\":8219,\"form\":307506,\"fort\":23113,\n",
    "        \"frog\":4119,\"go\":816536,\"god\":552668,\"good\":966602,\"gorge\":6177,\"got\":432016,\"groan\":9995,\n",
    "        \"grow\":64005,\"grown\":57772,\"lord\":422407,\"more\":1899787,\"nor\":349691,\"of\":33950064,\"off\":545832,\"or\":4228287,\n",
    "        \"work\":829823}"
   ]
  },
  {
   "cell_type": "markdown",
   "metadata": {},
   "source": [
    "Let's get the functions `edits1` and `edits2` from Norvig's article."
   ]
  },
  {
   "cell_type": "code",
   "execution_count": 2,
   "metadata": {
    "collapsed": true
   },
   "outputs": [],
   "source": [
    "def edits1(word):\n",
    "    \"All edits that are one edit away from `word`.\"\n",
    "    alphabet = 'abcdefghijklmnopqrstuvwxyz'\n",
    "    splits     = [(word[:i], word[i:]) for i in range(len(word) + 1)]\n",
    "    deletes    = [a + b[1:] for a, b in splits if b]\n",
    "    transposes = [a + b[1] + b[0] + b[2:] for a, b in splits if len(b)>1]\n",
    "    replaces   = [a + c + b[1:] for a, b in splits for c in alphabet if b]\n",
    "    inserts    = [a + c + b for a, b in splits for c in alphabet]\n",
    "    return set(deletes + transposes + replaces + inserts)\n",
    "\n",
    "def edits2(word):\n",
    "    \"All edits that are two edits away from `word`.\"\n",
    "    return set(e2 for e1 in edits1(word) for e2 in edits1(e1) if e2 in table)"
   ]
  },
  {
   "cell_type": "markdown",
   "metadata": {},
   "source": [
    "Write a function that returns the maximum frequency candidate at edit distance 1."
   ]
  },
  {
   "cell_type": "code",
   "execution_count": 3,
   "metadata": {
    "collapsed": false
   },
   "outputs": [],
   "source": [
    "def d1(word):\n",
    "    arr = {}\n",
    "    d1 = edits1(word)\n",
    "    result = \"None\"\n",
    "    for w in d1:\n",
    "        if w in table.keys():\n",
    "            arr[w] = table[w]\n",
    "            result = max(arr, key=arr.get)\n",
    "    return result"
   ]
  },
  {
   "cell_type": "markdown",
   "metadata": {},
   "source": [
    "If the candidate is not found at edit distance 1, then try edit distance 2."
   ]
  },
  {
   "cell_type": "code",
   "execution_count": 4,
   "metadata": {
    "collapsed": true
   },
   "outputs": [],
   "source": [
    "def d2(word):\n",
    "    arr = {}\n",
    "    d2 = edits2(word)\n",
    "    result = \"None\"\n",
    "    for w in d2:\n",
    "        if w in table.keys():\n",
    "            arr[w] = table[w]\n",
    "            result = max(arr, key=arr.get)\n",
    "    return result"
   ]
  },
  {
   "cell_type": "markdown",
   "metadata": {},
   "source": [
    "Bring it all together"
   ]
  },
  {
   "cell_type": "code",
   "execution_count": 5,
   "metadata": {
    "collapsed": false
   },
   "outputs": [],
   "source": [
    "def correct(table,list):\n",
    "    result = {}\n",
    "    for w in list:\n",
    "        if w in table:\n",
    "            result[w] = w\n",
    "        else:\n",
    "            result[w] = d1(w)\n",
    "            if result[w] == \"None\":\n",
    "                result[w] = d2(w)\n",
    "    return result"
   ]
  },
  {
   "cell_type": "markdown",
   "metadata": {},
   "source": [
    "## Results"
   ]
  },
  {
   "cell_type": "code",
   "execution_count": 6,
   "metadata": {
    "collapsed": false
   },
   "outputs": [
    {
     "data": {
      "text/plain": [
       "{'forg': 'for', 'frog': 'frog', 'gorf': 'of', 'grof': 'grow'}"
      ]
     },
     "execution_count": 6,
     "metadata": {},
     "output_type": "execute_result"
    }
   ],
   "source": [
    "words_to_check = ['frog','gorf','forg','grof']\n",
    "\n",
    "correct(table,words_to_check)"
   ]
  }
 ],
 "metadata": {
  "anaconda-cloud": {},
  "kernelspec": {
   "display_name": "Python [Root]",
   "language": "python",
   "name": "Python [Root]"
  },
  "language_info": {
   "codemirror_mode": {
    "name": "ipython",
    "version": 3
   },
   "file_extension": ".py",
   "mimetype": "text/x-python",
   "name": "python",
   "nbconvert_exporter": "python",
   "pygments_lexer": "ipython3",
   "version": "3.5.2"
  }
 },
 "nbformat": 4,
 "nbformat_minor": 0
}
